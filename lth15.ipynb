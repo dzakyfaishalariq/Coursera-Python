{
 "cells": [
  {
   "cell_type": "code",
   "execution_count": 1,
   "metadata": {},
   "outputs": [],
   "source": [
    "from bs4 import BeautifulSoup as br\n",
    "import urllib.request as gett\n",
    "import re"
   ]
  },
  {
   "cell_type": "code",
   "execution_count": 2,
   "metadata": {},
   "outputs": [
    {
     "name": "stdout",
     "output_type": "stream",
     "text": [
      "jumlah : 2553\n"
     ]
    }
   ],
   "source": [
    "teab = gett.urlopen('http://py4e-data.dr-chuck.net/comments_42.html').read()\n",
    "tak = br(teab,'html.parser')\n",
    "tak = tak('span')\n",
    "jumlah = 0\n",
    "for i in tak:\n",
    "    jumlah += int(re.findall('[0-9]+',str(i))[0])\n",
    "print(\"jumlah : {}\".format(jumlah))"
   ]
  },
  {
   "cell_type": "code",
   "execution_count": 3,
   "metadata": {},
   "outputs": [
    {
     "name": "stdout",
     "output_type": "stream",
     "text": [
      "Count 2300\n"
     ]
    }
   ],
   "source": [
    "teab = gett.urlopen(' http://py4e-data.dr-chuck.net/comments_1575323.html').read()\n",
    "tak = br(teab,'html.parser')\n",
    "tak = tak('span')\n",
    "jumlah = 0\n",
    "for i in tak:\n",
    "    jumlah += int(re.findall('[0-9]+',str(i))[0])\n",
    "print(\"Count {}\".format(jumlah))"
   ]
  },
  {
   "cell_type": "code",
   "execution_count": 4,
   "metadata": {},
   "outputs": [
    {
     "name": "stdout",
     "output_type": "stream",
     "text": [
      "http://py4e-data.dr-chuck.net/known_by_Jaimie.html\n",
      "http://py4e-data.dr-chuck.net/known_by_Jennah.html\n",
      "http://py4e-data.dr-chuck.net/known_by_Jaden.html\n",
      "http://py4e-data.dr-chuck.net/known_by_Jemma.html\n",
      "http://py4e-data.dr-chuck.net/known_by_Joanna.html\n",
      "http://py4e-data.dr-chuck.net/known_by_Jubin.html\n"
     ]
    }
   ],
   "source": [
    "teab = gett.urlopen('http://py4e-data.dr-chuck.net/known_by_Fikret.html').read()\n",
    "tak = br(teab,'html.parser')\n",
    "tak = tak('a')\n",
    "for i in tak:\n",
    "    text = str(i.get('href',None))\n",
    "    if text[39:][0] == 'J':\n",
    "        print(text)\n"
   ]
  },
  {
   "cell_type": "code",
   "execution_count": 5,
   "metadata": {},
   "outputs": [
    {
     "name": "stdout",
     "output_type": "stream",
     "text": [
      "http://py4e-data.dr-chuck.net/known_by_Cohen.html\n",
      "http://py4e-data.dr-chuck.net/known_by_Cohen.html\n",
      "http://py4e-data.dr-chuck.net/known_by_Cohen.html\n",
      "http://py4e-data.dr-chuck.net/known_by_Cohen.html\n",
      "http://py4e-data.dr-chuck.net/known_by_Cohen.html\n",
      "http://py4e-data.dr-chuck.net/known_by_Cohen.html\n",
      "http://py4e-data.dr-chuck.net/known_by_Cohen.html\n"
     ]
    }
   ],
   "source": [
    "teab = gett.urlopen('http://py4e-data.dr-chuck.net/known_by_Jaydon.html').read()\n",
    "tak = br(teab,'html.parser')\n",
    "tak = tak('a')\n",
    "for j in range(7):\n",
    "    text = str(i.get('href',None))\n",
    "    print(text)"
   ]
  },
  {
   "cell_type": "code",
   "execution_count": 1,
   "metadata": {},
   "outputs": [
    {
     "name": "stdout",
     "output_type": "stream",
     "text": [
      "http://py4e-data.dr-chuck.net/known_by_Aniqa.html\n",
      "http://py4e-data.dr-chuck.net/known_by_Klevis.html\n",
      "http://py4e-data.dr-chuck.net/known_by_Nawfal.html\n",
      "http://py4e-data.dr-chuck.net/known_by_Maggie.html\n"
     ]
    }
   ],
   "source": [
    "import urllib.request, urllib.parse, urllib.error\n",
    "from bs4 import BeautifulSoup\n",
    "import ssl\n",
    "\n",
    "# Ignore SSL certificate errors\n",
    "ctx = ssl.create_default_context()\n",
    "ctx.check_hostname = False\n",
    "ctx.verify_mode = ssl.CERT_NONE\n",
    "\n",
    "url = input('Enter : ')\n",
    "count = int(input('Enter count : '))\n",
    "position = int(input('Enter position : '))\n",
    "html = urllib.request.urlopen(url, context=ctx).read()\n",
    "soup = BeautifulSoup(html, 'html.parser')\n",
    "\n",
    "# Retrieve all of the anchor tags\n",
    "# array = []\n",
    "tags = soup('a')\n",
    "# for tag in tags:\n",
    "#     # print(tag.get('href', None))\n",
    "#     h = tag.get('href', None).split('/' or '.')\n",
    "#     h = h[3].split('_')[2].split('.')[0]\n",
    "#     array.append(h)\n",
    "for i in range(count):\n",
    "    nilai = tags[0].get('href', None)\n",
    "    print(nilai)\n",
    "    html = urllib.request.urlopen(nilai, context=ctx).read()\n",
    "    soup = BeautifulSoup(html, 'html.parser')\n",
    "    tags = soup('a')\n",
    "    \n",
    "\n"
   ]
  }
 ],
 "metadata": {
  "kernelspec": {
   "display_name": "Python 3.10.5 64-bit",
   "language": "python",
   "name": "python3"
  },
  "language_info": {
   "codemirror_mode": {
    "name": "ipython",
    "version": 3
   },
   "file_extension": ".py",
   "mimetype": "text/x-python",
   "name": "python",
   "nbconvert_exporter": "python",
   "pygments_lexer": "ipython3",
   "version": "3.10.5"
  },
  "orig_nbformat": 4,
  "vscode": {
   "interpreter": {
    "hash": "7ae8455117f495df06ef7f6b9f7e090666795ccee0b0fb67c57eb643cbbf94c7"
   }
  }
 },
 "nbformat": 4,
 "nbformat_minor": 2
}
